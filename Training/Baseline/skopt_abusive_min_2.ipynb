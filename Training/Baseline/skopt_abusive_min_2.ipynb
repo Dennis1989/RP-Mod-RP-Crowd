{
 "cells": [
  {
   "cell_type": "markdown",
   "metadata": {},
   "source": [
    "# RP-Mod-2 Analysis\n",
    "In this notebook we analyse the RP-Mod-2 dataset and train our baseline classifiers"
   ]
  },
  {
   "cell_type": "code",
   "execution_count": null,
   "metadata": {},
   "outputs": [],
   "source": [
    "#!pip install scikit-learn\n",
    "import nltk\n",
    "import re\n",
    "import spacy\n",
    "import numpy as np\n",
    "from tqdm import tqdm\n",
    "from nltk.corpus import stopwords  \n",
    "import pandas as pd\n",
    "import matplotlib.pyplot as plt\n",
    "\n",
    "\n",
    "##skopt\n",
    "from skopt import BayesSearchCV\n",
    "from skopt import dump\n",
    "from skopt.space import Real, Categorical, Integer\n",
    "\n",
    "\n",
    "##sklearn\n",
    "from sklearn.svm import SVC\n",
    "from sklearn.naive_bayes import MultinomialNB\n",
    "from sklearn.model_selection import PredefinedSplit\n",
    "from sklearn.metrics import precision_recall_curve\n",
    "import sklearn.datasets\n",
    "import sklearn.metrics\n",
    "from sklearn.ensemble import RandomForestClassifier\n",
    "from sklearn.ensemble import GradientBoostingClassifier\n",
    "from sklearn.tree import DecisionTreeClassifier\n",
    "from sklearn.linear_model import LogisticRegression\n",
    "import sklearn.model_selection\n",
    "import sklearn.datasets\n",
    "import sklearn.metrics\n",
    "from sklearn.base import TransformerMixin\n",
    "from sklearn.naive_bayes import GaussianNB\n",
    "\n",
    "## automl\n",
    "import autosklearn.classification\n",
    "import six.moves.cPickle as pickle\n",
    "\n"
   ]
  },
  {
   "cell_type": "markdown",
   "metadata": {},
   "source": [
    "# Preprocessing"
   ]
  },
  {
   "cell_type": "code",
   "execution_count": null,
   "metadata": {},
   "outputs": [],
   "source": [
    "## first we load the dataset with the predefined folds\n",
    "\n",
    "experiment = \"abusive_min_2\"\n",
    "\n",
    "## load data\n",
    "df = pd.read_csv(\"../../Dataset/Text-Data/RP-Crowd-2-folds.csv\")\n",
    "\n",
    "## load labels and cast to int\n",
    "y_dat = df[\"label\"].values\n",
    "y_dat = y_dat.astype(int)\n",
    "\n",
    "## test data filter\n",
    "filter_q =  df['ten_folds'] < 8 \n"
   ]
  },
  {
   "cell_type": "code",
   "execution_count": null,
   "metadata": {},
   "outputs": [],
   "source": [
    "class TextPreprocessingTransformer(TransformerMixin):\n",
    "    def __init__(self):\n",
    "        pass\n",
    "\n",
    "    def fit(self, X, y=None):\n",
    "        return self\n",
    "\n",
    "    def transform(self, X):\n",
    "        documents = []\n",
    "        nlp = spacy.load(\"de_core_news_lg\")\n",
    "        for sen in tqdm(range(0, len(X))):\n",
    "            # Remove all the special characters\n",
    "            document = re.sub(r'\\W', ' ', str(X[sen]))\n",
    "\n",
    "            # Remove numbers\n",
    "            document = re.sub(r'[0-9]', ' ', document)\n",
    "\n",
    "            # remove all single characters\n",
    "            document = re.sub(r'\\s+[a-zA-Z]\\s+', ' ', document)\n",
    "\n",
    "            # Remove single characters from the start\n",
    "            document = re.sub(r'\\^[a-zA-Z]\\s+', ' ', document) \n",
    "\n",
    "            # Substituting multiple spaces with single space\n",
    "            document = re.sub(r'\\s+', ' ', document, flags=re.I)\n",
    "\n",
    "            # Removing prefixed 'b'\n",
    "            document = re.sub(r'^b\\s+', '', document)\n",
    "\n",
    "            # Converting to Lowercase\n",
    "            document = document.lower()\n",
    "\n",
    "            # Lemmatization\n",
    "            document = nlp(document)\n",
    " \n",
    "            document = [word.lemma_ for word in document]\n",
    "            document = ' '.join(document)\n",
    "        \n",
    "            documents.append(document)\n",
    "\n",
    "        return documents"
   ]
  },
  {
   "cell_type": "code",
   "execution_count": null,
   "metadata": {},
   "outputs": [],
   "source": [
    "nltk.download(\"stopwords\")\n",
    "german_stop_words = stopwords.words('german')\n",
    "\n",
    "from sklearn.feature_extraction.text import TfidfVectorizer\n",
    "\n",
    "tf = TfidfVectorizer(stop_words=german_stop_words, min_df = 5, ngram_range=(1,2), max_features=3224)\n",
    "preprocessor = TextPreprocessingTransformer()\n",
    "\n",
    "\n",
    "preprocessed = preprocessor.transform(np.array(df[\"text\"]))\n",
    "\n",
    "tfidf_dat = tf.fit_transform(preprocessed).toarray()\n",
    "tfidf_dat.shape"
   ]
  },
  {
   "cell_type": "code",
   "execution_count": null,
   "metadata": {},
   "outputs": [],
   "source": [
    "a = pickle.load( open( \"../../Evaluation/Baseline-Results/automl_model_tfidf_\"+experiment,\"rb\")) "
   ]
  },
  {
   "cell_type": "code",
   "execution_count": null,
   "metadata": {},
   "outputs": [],
   "source": [
    "a.show_models()"
   ]
  },
  {
   "cell_type": "code",
   "execution_count": null,
   "metadata": {},
   "outputs": [],
   "source": [
    "a.refit(tfidf_dat[filter_q], y_dat[filter_q])"
   ]
  },
  {
   "cell_type": "markdown",
   "metadata": {},
   "source": [
    "# TFIDF-Evaluation\n",
    "Now we start building models based on TF-IDF representation. We build the following models:\n",
    "1. Naive Bayes\n",
    "2. Logistic Regression\n",
    "3. Gradient Boosted Trees\n",
    "4. AutoML pipeline"
   ]
  },
  {
   "cell_type": "markdown",
   "metadata": {},
   "source": [
    "### Naive Bayes"
   ]
  },
  {
   "cell_type": "code",
   "execution_count": null,
   "metadata": {
    "scrolled": true
   },
   "outputs": [],
   "source": [
    "params_NB = {\n",
    "    \"alpha\":(0,1,\"uniform\"),\n",
    "    \"fit_prior\":[True,False],\n",
    "}\n",
    "\n",
    "\n",
    "# log-uniform: understand as search over p = exp(x) by varying x\n",
    "NB_opt = BayesSearchCV(\n",
    "    MultinomialNB(),\n",
    "    search_spaces=params_NB,\n",
    "    n_iter=50,\n",
    "    cv=10,\n",
    "    n_jobs=40,\n",
    "    n_points = 4,\n",
    "    return_train_score = True\n",
    ")\n",
    "\n",
    "\n",
    "def on_step(optim_result):\n",
    "    score = -optim_result['fun']\n",
    "    print(\"best score: %s\" % score)\n",
    "    if score >= 0.98:\n",
    "        print('Interrupting!')\n",
    "        return True\n",
    "\n",
    "   \n",
    "\n",
    "NB_opt.fit(tfidf_dat[filter_q], y_dat[filter_q], callback=on_step)\n",
    "dump(NB_opt,\"../../Evaluation/Best-Baseline-Results/NB_model_tfidf_\"+experiment)"
   ]
  },
  {
   "cell_type": "markdown",
   "metadata": {},
   "source": [
    "### Logistic Regression"
   ]
  },
  {
   "cell_type": "code",
   "execution_count": null,
   "metadata": {},
   "outputs": [],
   "source": [
    "params_LOG = {\n",
    "    'C': (1e-6, 1e+6, 'log-uniform'),\n",
    "    'solver':[ \"liblinear\", \"saga\", \"lbfgs\"],\n",
    "    'max_iter':Integer(100, 500, 'uniform'),\n",
    "    \n",
    "}\n",
    "\n",
    "\n",
    "# log-uniform: understand as search over p = exp(x) by varying x\n",
    "LOGREG_opt = BayesSearchCV(\n",
    "    LogisticRegression(),\n",
    "    search_spaces=params_LOG,\n",
    "    n_iter=50,\n",
    "    cv=10,\n",
    "    n_jobs=40,\n",
    "    n_points = 4,\n",
    "    return_train_score = True\n",
    "    \n",
    ")\n",
    "\n",
    "\n",
    "def on_step(optim_result):\n",
    "    score = -optim_result['fun']\n",
    "    print(\"best score: %s\" % score)\n",
    "    if score >= 0.98:\n",
    "        print('Interrupting!')\n",
    "        return True\n",
    "\n",
    "   \n",
    "\n",
    "LOGREG_opt.fit(tfidf_dat[filter_q], y_dat[filter_q], callback=on_step)\n",
    "dump(LOGREG_opt,\"../../Evaluation/Best-Baseline-Results/logreg_model_tfidf_\"+experiment)"
   ]
  },
  {
   "cell_type": "markdown",
   "metadata": {},
   "source": [
    "### XGBoost"
   ]
  },
  {
   "cell_type": "code",
   "execution_count": null,
   "metadata": {},
   "outputs": [],
   "source": [
    "params_XG = {\n",
    "    'max_depth': Integer(1, 20, 'uniform'),\n",
    "    'learning_rate': Real(10**-5, 10**0,\"log-uniform\"),\n",
    "    \"min_samples_split\" :(2,100,\"uniform\"),\n",
    "    \"min_samples_leaf\":(2,100,\"uniform\")\n",
    "}\n",
    "\n",
    "\n",
    "# log-uniform: understand as search over p = exp(x) by varying x\n",
    "XG_opt = BayesSearchCV(\n",
    "    GradientBoostingClassifier(),\n",
    "    search_spaces=params_XG,\n",
    "    n_iter=50,\n",
    "    cv=10,\n",
    "    n_jobs=20,\n",
    "    n_points = 4\n",
    ")\n",
    "\n",
    "def on_step(optim_result):\n",
    "    score = -optim_result['fun']\n",
    "    print(\"best score: %s\" % score)\n",
    "    if score >= 0.98:\n",
    "        print('Interrupting!')\n",
    "        return True\n",
    "\n",
    "\n",
    "XG_opt.fit(tfidf_dat[filter_q], y_dat[filter_q], callback=on_step)\n",
    "dump(XG_opt,\"../../Evaluation/Best-Baseline-Results/xg_model_tfidf_\"+experiment)"
   ]
  },
  {
   "cell_type": "markdown",
   "metadata": {},
   "source": [
    "### AutoML"
   ]
  },
  {
   "cell_type": "code",
   "execution_count": null,
   "metadata": {},
   "outputs": [],
   "source": [
    "## Now we train the automl classifier\n",
    "\n",
    "from autosklearn.experimental.askl2 import AutoSklearn2Classifier\n",
    "automl =  autosklearn.classification.AutoSklearnClassifier(\n",
    "     time_left_for_this_task=18000,\n",
    "    per_run_time_limit=600,\n",
    "    tmp_folder='../../Evaluation/Baseline-Results/autosklearn_tfidf_min2_classification_results',\n",
    "    output_folder='../../Evaluation/Baseline-Results/autosklearn_tfidf_min2_classification_results_out',\n",
    "    memory_limit=None,\n",
    "    n_jobs=40,\n",
    "    metric = autosklearn.metrics.accuracy,\n",
    "    ensemble_nbest=10,\n",
    "    resampling_strategy='cv',\n",
    "    resampling_strategy_arguments={'folds': 10}\n",
    ")\n",
    "\n",
    "automl.fit(tfidf_dat[filter_q], y_dat[filter_q])"
   ]
  },
  {
   "cell_type": "code",
   "execution_count": null,
   "metadata": {},
   "outputs": [],
   "source": [
    "## refit on the complete training data\n",
    "automl.refit(tfidf_dat[filter_q], y_dat[filter_q])"
   ]
  },
  {
   "cell_type": "code",
   "execution_count": null,
   "metadata": {},
   "outputs": [],
   "source": [
    "with open(\"../../Evaluation/Baseline-Results/automl_model_tfidf_\"+experiment, \"wb\") as f:\n",
    "    pickle.dump(automl, f)"
   ]
  },
  {
   "cell_type": "code",
   "execution_count": null,
   "metadata": {},
   "outputs": [],
   "source": [
    "## load all results\n",
    "results = {\"nb\":NB_opt, \"logreg\":LOGREG_opt ,\"xg\":XG_opt,\"automl\":automl}"
   ]
  },
  {
   "cell_type": "code",
   "execution_count": null,
   "metadata": {},
   "outputs": [],
   "source": [
    "## specify test data\n",
    "\n",
    "test = tfidf_dat[-filter_q]\n",
    "test_y = y_dat[-filter_q]"
   ]
  },
  {
   "cell_type": "code",
   "execution_count": null,
   "metadata": {},
   "outputs": [],
   "source": [
    "## save all results\n",
    "\n",
    "for key,value in results.items():\n",
    "        opt = value\n",
    "        probs = opt.predict_proba(test)\n",
    "        decision = opt.predict(test)\n",
    "        with open('../../Evaluation/Baseline-Results/{}.p'.format(key+\"_\"+experiment+\"_tfidf\"), \"wb\") as f:\n",
    "            pickle.dump({'probs' : probs, 'decision' : decision}, f)"
   ]
  },
  {
   "cell_type": "code",
   "execution_count": null,
   "metadata": {},
   "outputs": [],
   "source": [
    "results = [NB_opt, LOGREG_opt, XG_opt, automl]"
   ]
  },
  {
   "cell_type": "code",
   "execution_count": null,
   "metadata": {},
   "outputs": [],
   "source": [
    "def create_precision_recall_curve(ax,res,test):\n",
    "    for opt in res:\n",
    "        probs = opt.predict_proba(test)\n",
    "        decision = opt.predict(test)\n",
    "\n",
    "        print(sklearn.metrics.accuracy_score(y_dat[-filter_q], decision))\n",
    "        print(sklearn.metrics.f1_score(y_dat[-filter_q], decision))\n",
    "\n",
    "        probs_pos = [x[1] for x in probs]\n",
    "        lr_precision, lr_recall, _ = sklearn.metrics.precision_recall_curve(y_dat[-filter_q], probs_pos)\n",
    "        ax.plot(lr_recall, lr_precision, label='Bla')\n",
    "        ax.set_xlabel('Recall')\n",
    "        ax.set_ylabel('Precision')\n",
    "        # show the legend\n",
    "        \n",
    "    #probs = bert[\"probs\"]\n",
    "    #decision =bert[\"decision\"]\n",
    "    #probs_pos = [x[1] for x in probs]\n",
    "    #lr_precision, lr_recall, _ = sklearn.metrics.precision_recall_curve(y_dat[-filter_q], probs_pos)\n",
    "    #ax.plot(lr_recall, lr_precision, label='Bla')\n",
    "    \n",
    "    ax.legend([\"MN-Bayes\",\"Logistic Regression\",\"Gradient Boosted Trees\", \"AutoML\"])\n",
    "    ax"
   ]
  },
  {
   "cell_type": "code",
   "execution_count": null,
   "metadata": {},
   "outputs": [],
   "source": [
    "def create_auc(ax,res,test):\n",
    "    for opt in res:\n",
    "        probs = opt.predict_proba(test)\n",
    "        decision = opt.predict(test)\n",
    "        probs_pos = [x[1] for x in probs]\n",
    "        fpr, tpr, thresholds = sklearn.metrics.roc_curve(df[-filter_q][\"label\"].values, probs_pos,drop_intermediate=True)\n",
    "        ax.plot(fpr, tpr,linestyle='-', label='AutoSklearn',linewidth=2)\n",
    "    \n",
    "    #probs = bert[\"probs\"]\n",
    "    #decision = bert[\"decision\"]\n",
    "    #probs_pos = [x[1] for x in probs]\n",
    "    \n",
    "    #fpr, tpr, thresholds = sklearn.metrics.roc_curve(df[-filter_q][\"label\"].values, probs_pos,drop_intermediate=True)\n",
    "    #ax.plot(fpr, tpr,linestyle='-', label='AutoSklearn',linewidth=2)\n",
    "        \n",
    "    ax.plot([0, 1], [0, 1], color='black', linestyle='--')\n",
    "    ax.set_xlabel('FPR')\n",
    "    ax.set_ylabel('TPR')\n",
    "    ax.legend([\"MN-Bayes\",\"Logistic Regression\", \"Gradient Boosted Trees\", \"AutoML\"])\n",
    "    ax"
   ]
  },
  {
   "cell_type": "code",
   "execution_count": null,
   "metadata": {},
   "outputs": [],
   "source": [
    "fig, (ax1, ax2) = plt.subplots(1 ,2, figsize=(8,4))\n",
    "create_precision_recall_curve(ax1,results,test)\n",
    "create_auc(ax2,results,test)\n",
    "\n",
    "fig.tight_layout()\n",
    "plt.show()\n"
   ]
  },
  {
   "cell_type": "markdown",
   "metadata": {},
   "source": [
    "# FASTTEXT EMBEDDING EVALUATION\n",
    "Now we start building models based on fasttext embeddings. We build the following models:\n",
    "1. Naive Bayes\n",
    "2. Logistic Regression\n",
    "3. Gradient Boosted Trees\n",
    "4. AutoML pipeline"
   ]
  },
  {
   "cell_type": "code",
   "execution_count": null,
   "metadata": {},
   "outputs": [],
   "source": [
    "import fasttext.util\n",
    "#fasttext.util.download_model('de', if_exists='ignore')\n",
    "ft = fasttext.load_model('cc.de.300.bin')"
   ]
  },
  {
   "cell_type": "code",
   "execution_count": null,
   "metadata": {},
   "outputs": [],
   "source": [
    "## get sentence embedding\n",
    "dat_embedding = np.array([ft.get_sentence_vector(x) for x in preprocessed])\n",
    "dat_embedding[filter_q]"
   ]
  },
  {
   "cell_type": "code",
   "execution_count": null,
   "metadata": {},
   "outputs": [],
   "source": [
    "params_NB = {\n",
    "    'var_smoothing': np.logspace(0,-9, num=100)\n",
    "}\n",
    "\n",
    "\n",
    "# log-uniform: understand as search over p = exp(x) by varying x\n",
    "NB_embed_opt = BayesSearchCV(\n",
    "    GaussianNB(),\n",
    "    search_spaces=params_NB,\n",
    "    n_iter=50,\n",
    "    cv=10,\n",
    "    n_jobs=40,\n",
    "    n_points = 4\n",
    "    \n",
    ")\n",
    "\n",
    "\n",
    "def on_step(optim_result):\n",
    "    score = -optim_result['fun']\n",
    "    print(\"best score: %s\" % score)\n",
    "    if score >= 0.98:\n",
    "        print('Interrupting!')\n",
    "        return True\n",
    "\n",
    "NB_embed_opt.fit(dat_embedding[filter_q], y_dat[filter_q], callback=on_step)\n",
    "dump(NB_embed_opt,\"../../Evaluation/Baseline-Results/NB_model_embed_\"+experiment)\n",
    "\n",
    "\n",
    "\n"
   ]
  },
  {
   "cell_type": "code",
   "execution_count": null,
   "metadata": {},
   "outputs": [],
   "source": [
    "params_LOG = {\n",
    "    'C': (1e-6, 1e+6, 'log-uniform'),\n",
    "    'solver':[ \"liblinear\", \"saga\", \"lbfgs\"],\n",
    "    \n",
    "}\n",
    "\n",
    "# log-uniform: understand as search over p = exp(x) by varying x\n",
    "LOGREG_embed_opt = BayesSearchCV(\n",
    "    LogisticRegression(),\n",
    "    search_spaces=params_LOG,\n",
    "    n_iter=50,\n",
    "    cv=10,\n",
    "    n_jobs=20,\n",
    "    return_train_score = True\n",
    "  \n",
    ")\n",
    "\n",
    "\n",
    "# callback handler\n",
    "def on_step(optim_result):\n",
    "    score = -optim_result['fun']\n",
    "    print(\"best score: %s\" % score)\n",
    "    if score >= 0.98:\n",
    "        print('Interrupting!')\n",
    "        return True\n",
    "\n",
    "\n",
    "LOGREG_embed_opt.fit(dat_embedding[filter_q], y_dat[filter_q], callback=on_step)\n",
    "dump(LOGREG_embed_opt,\"../../Evaluation/Baseline-Results/logreg_model_embed_\"+experiment)"
   ]
  },
  {
   "cell_type": "code",
   "execution_count": null,
   "metadata": {},
   "outputs": [],
   "source": [
    "params_XG = {\n",
    "    'max_depth': Integer(1, 20, 'uniform'),\n",
    "    'learning_rate': Real(10**-5, 10**0,\"log-uniform\"),\n",
    "    \"min_samples_split\" :(2,100,\"uniform\"),\n",
    "    \"min_samples_leaf\":(2,100,\"uniform\"),\n",
    "}\n",
    "\n",
    "\n",
    "# log-uniform: understand as search over p = exp(x) by varying x\n",
    "XG_embed_opt = BayesSearchCV(\n",
    "    GradientBoostingClassifier(),\n",
    "    search_spaces=params_XG,\n",
    "    n_iter=50,\n",
    "    cv=10,\n",
    "    n_jobs=40,\n",
    "    n_points = 4\n",
    ")    \n",
    "\n",
    "    # callback handler\n",
    "def on_step(optim_result):\n",
    "    score = -optim_result['fun']\n",
    "    print(\"best score: %s\" % score)\n",
    "    if score >= 0.98:\n",
    "        print('Interrupting!')\n",
    "        return True\n",
    "\n",
    "XG_embed_opt.fit(dat_embedding[filter_q], y_dat[filter_q], callback=on_step)\n",
    "dump(XG_embed_opt,\"../../Evaluation/Baseline-Results/xg_model_embed_\"+experiment)"
   ]
  },
  {
   "cell_type": "code",
   "execution_count": null,
   "metadata": {},
   "outputs": [],
   "source": [
    "## Now we train the automl classifier\n",
    "automl_emb = autosklearn.classification.AutoSklearnClassifier(\n",
    "      time_left_for_this_task=18000,\n",
    "    per_run_time_limit=600,\n",
    "    tmp_folder='../../Evaluation/Baseline-Results/autosklearn_emb_min2_classification_results',\n",
    "    output_folder='../../Evaluation/Baseline-Results/autosklearn_emb_min2_classification_results_out',\n",
    "    memory_limit=None,\n",
    "    n_jobs=10,\n",
    "    metric = autosklearn.metrics.accuracy,\n",
    "    ensemble_nbest=10,\n",
    "    resampling_strategy='cv',\n",
    "    resampling_strategy_arguments={'folds': 10}\n",
    ")\n",
    "\n",
    "automl_emb.fit(dat_embedding[filter_q], y_dat[filter_q])"
   ]
  },
  {
   "cell_type": "code",
   "execution_count": null,
   "metadata": {},
   "outputs": [],
   "source": [
    "automl_emb.refit(dat_embedding[filter_q].copy(), y_dat[filter_q].copy())"
   ]
  },
  {
   "cell_type": "code",
   "execution_count": null,
   "metadata": {},
   "outputs": [],
   "source": [
    "with open(\"../../Evaluation/Baseline-Results/autosklearn_model_embed_\"+experiment, \"wb\") as f:\n",
    "    pickle.dump(automl_emb, f)"
   ]
  },
  {
   "cell_type": "code",
   "execution_count": null,
   "metadata": {},
   "outputs": [],
   "source": [
    "results_embed = {\"nb\":NB_embed_opt, \"logreg\":LOGREG_embed_opt, \"xg\": XG_embed_opt, \"automl\":automl_emb}\n",
    "\n",
    "## specify test data\n",
    "test_embed = dat_embedding[-filter_q]\n",
    "test_embed_y = y_dat[-filter_q]"
   ]
  },
  {
   "cell_type": "code",
   "execution_count": null,
   "metadata": {},
   "outputs": [],
   "source": [
    "## save all results\n",
    "for key,value in results_embed.items():\n",
    "        opt = value\n",
    "        probs = opt.predict_proba(test_embed)\n",
    "        decision = opt.predict(test_embed)\n",
    "        with open('../../Evaluation/Baseline-Results/{}.p'.format(key+\"_\"+experiment+\"_embed\"), \"wb\") as f:\n",
    "            pickle.dump({'probs' : probs, 'decision' : decision}, f)\n",
    "\n"
   ]
  },
  {
   "cell_type": "code",
   "execution_count": null,
   "metadata": {},
   "outputs": [],
   "source": [
    "results_embed = [NB_embed_opt,LOGREG_embed_opt,XG_embed_opt,automl_emb]"
   ]
  },
  {
   "cell_type": "code",
   "execution_count": null,
   "metadata": {},
   "outputs": [],
   "source": [
    "fig, (ax1, ax2) = plt.subplots(1 ,2, figsize=(8,4))\n",
    "create_precision_recall_curve(ax1,results_embed,test_embed)\n",
    "create_auc(ax2,results_embed,test_embed)\n",
    "\n",
    "fig.tight_layout()\n",
    "plt.show()\n",
    "\n"
   ]
  },
  {
   "cell_type": "code",
   "execution_count": null,
   "metadata": {},
   "outputs": [],
   "source": [
    "def create_auc_both(ax,res,res_embed,test,test_embed):\n",
    "    for opt in res:\n",
    "        probs = opt.predict_proba(test)\n",
    "        decision = opt.predict(test)\n",
    "        probs_pos = [x[1] for x in probs]\n",
    "        fpr, tpr, thresholds = sklearn.metrics.roc_curve(df[~filter_q][\"label\"].values, probs_pos,drop_intermediate=True)\n",
    "        print(sklearn.metrics.auc(fpr,tpr))\n",
    "        ax.plot(fpr, tpr,linestyle='-',linewidth=1, alpha = 0.3)\n",
    "        \n",
    "    ## reset color cycle\n",
    "    ax.set_prop_cycle(None)\n",
    "    \n",
    "    for opt in res_embed:\n",
    "        probs = opt.predict_proba(test_embed)\n",
    "        decision = opt.predict(test_embed)\n",
    "        probs_pos = [x[1] for x in probs]\n",
    "        \n",
    "        fpr, tpr, thresholds = sklearn.metrics.roc_curve(df[~filter_q][\"label\"].values, probs_pos,drop_intermediate=True)\n",
    "        print(sklearn.metrics.auc(fpr,tpr))\n",
    "        ax.plot(fpr, tpr,linestyle='-',linewidth=1)\n",
    " \n",
    "        \n",
    "    ax.plot([0, 1], [0, 1], color='black', linestyle='--')\n",
    "    ax.set_xlabel('FPR')\n",
    "    ax.set_ylabel('TPR')\n",
    "    ax.legend([\"_nolegend_\",\"_nolegend_\",\"_nolegend_\",\"_nolegend_\",\"MN-Bayes\",\"Logistic Regression\", \"Gradient Boosted Trees\", \"AutoML\"])\n",
    "    ax"
   ]
  }
 ],
 "metadata": {
  "kernelspec": {
   "display_name": "Python 3 (ipykernel)",
   "language": "python",
   "name": "python3"
  },
  "language_info": {
   "codemirror_mode": {
    "name": "ipython",
    "version": 3
   },
   "file_extension": ".py",
   "mimetype": "text/x-python",
   "name": "python",
   "nbconvert_exporter": "python",
   "pygments_lexer": "ipython3",
   "version": "3.9.7"
  }
 },
 "nbformat": 4,
 "nbformat_minor": 4
}
