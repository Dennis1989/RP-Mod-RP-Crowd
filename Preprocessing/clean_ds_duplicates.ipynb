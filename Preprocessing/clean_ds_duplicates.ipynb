{
 "cells": [
  {
   "cell_type": "code",
   "execution_count": 1,
   "id": "25b061ad",
   "metadata": {},
   "outputs": [],
   "source": [
    "import csv, math\n",
    "from polyleven import levenshtein\n",
    "from tqdm import trange"
   ]
  },
  {
   "cell_type": "code",
   "execution_count": 2,
   "id": "97054d7b",
   "metadata": {},
   "outputs": [],
   "source": [
    "DATASETS = ['../Dataset/Text-Data/RP-Crowd-2-folds.csv',\n",
    "            '../Dataset/Text-Data/RP-Crowd-3-folds.csv',\n",
    "            '../Dataset/Text-Data/RP-Mod-folds.csv']\n",
    "VAL_FOLDS = ['8', '9']\n",
    "FOLD_COLUMN = 'ten_folds'\n",
    "OUT_PATH = '../Dataset/Text-Data/Cross Evaluation Without Duplicates/evaluate_on_{}.csv'"
   ]
  },
  {
   "cell_type": "code",
   "execution_count": null,
   "id": "3a3990e9",
   "metadata": {},
   "outputs": [],
   "source": [
    "### Files for simple Evaluation\n",
    "\n",
    "for data_set in DATASETS:\n",
    "    rows_list_training = []\n",
    "    rows_list_testing = []\n",
    "    rows_list_no_duplicates = []\n",
    "    with open(data_set) as f:\n",
    "        reader = csv.DictReader(f)\n",
    "        for row in reader:\n",
    "            if row[FOLD_COLUMN] in VAL_FOLDS:\n",
    "                rows_list_testing.append(row)\n",
    "            else:\n",
    "                rows_list_training.append(row)\n",
    "    \n",
    "    print(data_set.split('/')[-1], f'Length Test: {len(rows_list_testing)}')\n",
    "    \n",
    "    dropped = 0\n",
    "    for test_row in rows_list_testing:\n",
    "        for train_row in rows_list_training:\n",
    "            dist = levenshtein(test_row['text'], train_row['text'], 1)\n",
    "            if dist == 0:\n",
    "                #print(test_row['text'], dist)\n",
    "                dropped += 1\n",
    "                break\n",
    "        else:\n",
    "            rows_list_no_duplicates.append(test_row)\n",
    "            \n",
    "    print(data_set.split('/')[-1], f'Dropped: {dropped}')\n",
    "    rows_list_training.extend(rows_list_no_duplicates)\n",
    "    with open(data_set.replace('folds', 'folds-without-duplicates'), 'w') as f:\n",
    "        csv_writer = csv.DictWriter(f, rows_list_training[0].keys())\n",
    "        csv_writer.writeheader()\n",
    "        csv_writer.writerows(rows_list_training)"
   ]
  },
  {
   "cell_type": "code",
   "execution_count": 3,
   "id": "8c113ea4",
   "metadata": {
    "scrolled": false
   },
   "outputs": [
    {
     "name": "stdout",
     "output_type": "stream",
     "text": [
      "RP-Crowd-2-folds: dropped 1430 from 3472 samples\n",
      "RP-Crowd-3-folds: dropped 1081 from 1260 samples\n",
      "RP-Mod-folds: dropped 743 from 2856 samples\n"
     ]
    }
   ],
   "source": [
    "### Files for combined test set\n",
    "for valid_set in DATASETS:\n",
    "    valid_set_name = valid_set.split('/')[-1][:-4]\n",
    "    rows_list_valid = []\n",
    "    \n",
    "    ## Collect Validation Samples\n",
    "    with open(valid_set) as f:\n",
    "        reader = csv.DictReader(f)\n",
    "        for row in reader:\n",
    "            if row[FOLD_COLUMN] in VAL_FOLDS:\n",
    "                rows_list_valid.append(row)\n",
    "    num_valid = len(rows_list_valid)\n",
    "    \n",
    "    for train_set in DATASETS:\n",
    "        train_set_name = train_set.split('/')[-1][:-4]\n",
    "        rows_list_train = []\n",
    "        \n",
    "        ### Collect Training Samples\n",
    "        with open(train_set) as f:\n",
    "            reader = csv.DictReader(f)\n",
    "            for row in reader:\n",
    "                if row[FOLD_COLUMN] not in VAL_FOLDS:\n",
    "                    rows_list_train.append(row)\n",
    "    \n",
    "        for train_row in rows_list_train:\n",
    "            rows_list_valid = [row for row in rows_list_valid \n",
    "                                   if levenshtein(row['text'], train_row['text'], 1) >= 1]\n",
    "    \n",
    "    dropped = num_valid - len(rows_list_valid)\n",
    "    print(f'{valid_set_name}: dropped {dropped} from {num_valid} samples')\n",
    "    with open(OUT_PATH.format(valid_set_name), 'w') as f:\n",
    "        csv_writer = csv.DictWriter(f, rows_list_valid[0].keys())\n",
    "        csv_writer.writeheader()\n",
    "        csv_writer.writerows(rows_list_valid)"
   ]
  },
  {
   "cell_type": "code",
   "execution_count": null,
   "id": "f1f3ae78",
   "metadata": {},
   "outputs": [],
   "source": []
  },
  {
   "cell_type": "code",
   "execution_count": null,
   "id": "82398492",
   "metadata": {},
   "outputs": [],
   "source": []
  }
 ],
 "metadata": {
  "kernelspec": {
   "display_name": "Python 3 (ipykernel)",
   "language": "python",
   "name": "python3"
  },
  "language_info": {
   "codemirror_mode": {
    "name": "ipython",
    "version": 3
   },
   "file_extension": ".py",
   "mimetype": "text/x-python",
   "name": "python",
   "nbconvert_exporter": "python",
   "pygments_lexer": "ipython3",
   "version": "3.9.7"
  }
 },
 "nbformat": 4,
 "nbformat_minor": 5
}
