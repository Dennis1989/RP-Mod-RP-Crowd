{
 "cells": [
  {
   "cell_type": "code",
   "execution_count": 5,
   "id": "80cc1165",
   "metadata": {},
   "outputs": [],
   "source": [
    "import pandas as pd\n",
    "import pickle\n",
    "from sklearn.metrics import f1_score\n",
    "from sklearn.metrics import accuracy_score\n",
    "\n",
    "\n"
   ]
  },
  {
   "cell_type": "code",
   "execution_count": 6,
   "id": "c82089d2",
   "metadata": {},
   "outputs": [
    {
     "name": "stdout",
     "output_type": "stream",
     "text": [
      "tf_min2: 0.709\n",
      "emb_min2: 0.727\n"
     ]
    }
   ],
   "source": [
    "df = pd.read_csv(\"../../Dataset/Text-Data/RP-Crowd-2-folds.csv\")\n",
    "## load labels and cast to int\n",
    "y_dat = df[\"label\"].values\n",
    "y_dat = y_dat.astype(int)\n",
    "## test data filter\n",
    "filter_q =  df['ten_folds'] < 8 \n",
    "test_y = y_dat[-filter_q]\n",
    "\n",
    "\n",
    "\n",
    "tf_min2 =pickle.load( open( \"../Best-Baseline-Results/automl_abusive_min_2_tfidf.p\", \"rb\" ) ) \n",
    "print(\"tf_min2: \" + str(round(accuracy_score(test_y,tf_min2[\"decision\"]),3)))\n",
    "\n",
    "emb_min2 =pickle.load( open( \"../Best-Baseline-Results/automl_abusive_min_2_embed.p\", \"rb\" ) ) \n",
    "print(\"emb_min2: \" + str(round(accuracy_score(test_y,emb_min2[\"decision\"]),3)))\n",
    "\n",
    "\n"
   ]
  },
  {
   "cell_type": "code",
   "execution_count": 10,
   "id": "e5b10c18",
   "metadata": {},
   "outputs": [
    {
     "name": "stdout",
     "output_type": "stream",
     "text": [
      "tf_min3: 0.737\n",
      "emb_min3: 0.782\n"
     ]
    }
   ],
   "source": [
    "df = pd.read_csv(\"../../Dataset/Text-Data/RP-Crowd-3-folds.csv\")\n",
    "## load labels and cast to int\n",
    "y_dat = df[\"label\"].values\n",
    "y_dat = y_dat.astype(int)\n",
    "## test data filter\n",
    "filter_q =  df['ten_folds'] < 8 \n",
    "test_y = y_dat[-filter_q]\n",
    "\n",
    "\n",
    "\n",
    "tf_min3 =pickle.load( open( \"../Best-Baseline-Results/automl_abusive_min_3_tfidf.p\", \"rb\" ) ) \n",
    "print(\"tf_min3: \" + str(round(accuracy_score(test_y,tf_min3[\"decision\"]),3)))\n",
    "\n",
    "emb_min3 =pickle.load( open( \"../Best-Baseline-Results/automl_abusive_min_3_embed.p\", \"rb\" ) ) \n",
    "print(\"emb_min3: \" + str(round(accuracy_score(test_y,emb_min3[\"decision\"]),3)))\n",
    "\n"
   ]
  },
  {
   "cell_type": "code",
   "execution_count": 11,
   "id": "be323831",
   "metadata": {},
   "outputs": [
    {
     "name": "stdout",
     "output_type": "stream",
     "text": [
      "tf_mod: 0.68\n",
      "emb_mod: 0.685\n"
     ]
    }
   ],
   "source": [
    "df = pd.read_csv(\"../../Dataset/Text-Data/RP-Mod-folds.csv\")\n",
    "## load labels and cast to int\n",
    "y_dat = df[\"label\"].values\n",
    "y_dat = y_dat.astype(int)\n",
    "## test data filter\n",
    "filter_q =  df['ten_folds'] < 8 \n",
    "test_y = y_dat[-filter_q]\n",
    "\n",
    "\n",
    "emb_tf =pickle.load( open( \"../Best-Baseline-Results/automl_abusive_mod_tfidf.p\", \"rb\" ) ) \n",
    "print(\"tf_mod: \" + str(round(accuracy_score(test_y,emb_tf[\"decision\"]),3)))\n",
    "\n",
    "\n",
    "\n",
    "emb_mod =pickle.load( open( \"../Best-Baseline-Results/automl_abusive_mod_embed.p\", \"rb\" ) ) \n",
    "print(\"emb_mod: \" + str(round(accuracy_score(test_y,emb_mod[\"decision\"]),3)))\n"
   ]
  }
 ],
 "metadata": {
  "kernelspec": {
   "display_name": "Python 3 (ipykernel)",
   "language": "python",
   "name": "python3"
  },
  "language_info": {
   "codemirror_mode": {
    "name": "ipython",
    "version": 3
   },
   "file_extension": ".py",
   "mimetype": "text/x-python",
   "name": "python",
   "nbconvert_exporter": "python",
   "pygments_lexer": "ipython3",
   "version": "3.9.6"
  }
 },
 "nbformat": 4,
 "nbformat_minor": 5
}
