{
 "cells": [
  {
   "cell_type": "code",
   "execution_count": null,
   "id": "be95c019",
   "metadata": {},
   "outputs": [],
   "source": [
    "import setGPU\n",
    "from transformers import BertTokenizer, BertForPreTraining\n",
    "from nimble_pytorch.transformers import NimbleBert\n",
    "from utils.generators import TextDatasetFineTuning, simple_collate_fn\n",
    "import torch, torch.nn as nn, torch.nn.functional as F\n",
    "from torch.utils.data import DataLoader\n",
    "import numpy as np\n",
    "import pickle\n",
    "def lr_lambda(epoch): return 0.97"
   ]
  },
  {
   "cell_type": "code",
   "execution_count": null,
   "id": "ccf0c7d0",
   "metadata": {},
   "outputs": [],
   "source": [
    "PATHS = [\n",
    "    '../../Training/Language Models/trained_models/gbert-base-double-head-unfrozen-RP-Crowd-2-folds-a0.9_best.pt',\n",
    "    '../../Training/Language Models/trained_models/gbert-base-double-head-unfrozen-RP-Crowd-3-folds-a0.9_best.pt',\n",
    "    '../../Training/Language Models/trained_models/gbert-base-double-head-unfrozen-RP-Mod-folds-a0.9_best.pt',\n",
    "    '../../Training/Language Models/trained_models/gbert-base-double-head-unfrozen-RP-Crowd-2-folds-a0.5_best.pt',\n",
    "    '../../Training/Language Models/trained_models/gbert-base-double-head-unfrozen-RP-Crowd-3-folds-a0.5_best.pt',\n",
    "    '../../Training/Language Models/trained_models/gbert-base-double-head-unfrozen-RP-Mod-folds-a0.5_best.pt',\n",
    "    '../../Training/Language Models/trained_models/gbert-base-double-head-unfrozen-derstandard-folds-a0.9_best.pt',\n",
    "    '../../Training/Language Models/trained_models/gbert-base-double-head-unfrozen-derstandard-folds-a0.5_best.pt'\n",
    "        ]\n",
    "tokenizer = BertTokenizer.from_pretrained('deepset/gbert-base')"
   ]
  },
  {
   "cell_type": "code",
   "execution_count": null,
   "id": "8fdc657e",
   "metadata": {},
   "outputs": [],
   "source": [
    "datasets = [\n",
    "    ('RP-Crowd-2', TextDatasetFineTuning('../../Dataset/Text-Data/RP-Crowd-2-folds.csv', tokenizer, \n",
    "                                'ten_folds', [8,9], include_mlm=True, \n",
    "                                mlm_probability=0., padding='max_length', truncation=True, max_length=512)),\n",
    "    ('RP-Crowd-3', TextDatasetFineTuning('../../Dataset/Text-Data/RP-Crowd-3-folds.csv', tokenizer, \n",
    "                                'ten_folds', [8,9], include_mlm=True, \n",
    "                                mlm_probability=0., padding='max_length', truncation=True, max_length=512)),\n",
    "    ('RP-Mod', TextDatasetFineTuning('../../Dataset/Text-Data/RP-Mod-folds.csv', tokenizer, \n",
    "                                'ten_folds', [8,9], include_mlm=True, \n",
    "                                mlm_probability=0., padding='max_length', truncation=True, max_length=512)),\n",
    "    ('DerStandard', TextDatasetFineTuning('../../Dataset/Text-Data/derstandard-folds.csv', tokenizer, \n",
    "                                'ten_folds', [8,9], include_mlm=True, \n",
    "                                mlm_probability=0., padding='max_length', truncation=True, max_length=512)),\n",
    "]"
   ]
  },
  {
   "cell_type": "code",
   "execution_count": null,
   "id": "5571bdac",
   "metadata": {},
   "outputs": [],
   "source": [
    "## Calc Predictions\n",
    "for p in PATHS:\n",
    "    model = torch.load(p, map_location='cuda')\n",
    "    \n",
    "    for name, dataset in datasets:\n",
    "        print(f'Evaluate {model.name} on {name}!')\n",
    "        probs = []\n",
    "        decisions = []\n",
    "        y_trues = []\n",
    "\n",
    "        for inp in iter(dataset):\n",
    "            y_trues.append(inp['next_sentence_label'])\n",
    "            x = {}\n",
    "            x['input_ids'] = inp['input_ids'].cuda()\n",
    "            x['token_type_ids'] = inp['token_type_ids'].cuda()\n",
    "            x['attention_mask'] = inp['attention_mask'].cuda()\n",
    "\n",
    "            prob = model.predict(x)['seq_relationship_logits'].cpu().exp()\n",
    "            decision = prob.argmax(-1)\n",
    "\n",
    "            probs.extend(prob.tolist())\n",
    "            decisions.extend(decision.tolist())\n",
    "            del prob, decision, x\n",
    "\n",
    "        ## Save Pickle\n",
    "        with open(f'../Language Model-Results/cross_eval_{model.name}_on_{name}.pickle', 'wb') as f:\n",
    "            pickle.dump({'probs': probs, 'decisions': decisions, 'y_trues': y_trues}, f)\n",
    "    del model"
   ]
  }
 ],
 "metadata": {
  "kernelspec": {
   "display_name": "Python 3 (ipykernel)",
   "language": "python",
   "name": "python3"
  },
  "language_info": {
   "codemirror_mode": {
    "name": "ipython",
    "version": 3
   },
   "file_extension": ".py",
   "mimetype": "text/x-python",
   "name": "python",
   "nbconvert_exporter": "python",
   "pygments_lexer": "ipython3",
   "version": "3.9.6"
  }
 },
 "nbformat": 4,
 "nbformat_minor": 5
}
