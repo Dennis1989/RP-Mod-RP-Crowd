{
 "cells": [
  {
   "cell_type": "code",
   "execution_count": 1,
   "id": "2ed9e990",
   "metadata": {},
   "outputs": [],
   "source": [
    "import csv\n",
    "import random\n",
    "import numpy as np"
   ]
  },
  {
   "cell_type": "markdown",
   "id": "047db250",
   "metadata": {},
   "source": [
    "This script contains the code that we used to create our training/test/validation folds"
   ]
  },
  {
   "cell_type": "code",
   "execution_count": 6,
   "id": "993262e7",
   "metadata": {},
   "outputs": [],
   "source": [
    "\n",
    "SOURCE_FILE = '../Dataset/Text-Data/derstandard.csv'\n",
    "TARGET_FILE = '../Dataset/Text-Data/derstandard-folds.csv'\n"
   ]
  },
  {
   "cell_type": "code",
   "execution_count": 9,
   "id": "4a96533a",
   "metadata": {},
   "outputs": [
    {
     "name": "stdout",
     "output_type": "stream",
     "text": [
      "#Positive:  585\n",
      "#Negative:  585\n"
     ]
    }
   ],
   "source": [
    "    positive_text = []\n",
    "    negative_text = []\n",
    "    with open(SOURCE_FILE, encoding=\"utf-8\") as f:\n",
    "        reader = csv.DictReader(f)\n",
    "        for row in reader:\n",
    "            if row['label'] == 1.0 or row['label'] == '1.0' or row['label'] == 1 or row['label'] == '1':\n",
    "                positive_text.append(row['text'])\n",
    "            elif row['label'] == 0.0 or row['label'] == '0.0' or row['label'] == 0 or row['label'] == '0':\n",
    "                negative_text.append(row['text'])\n",
    "            else:\n",
    "                print(row)\n",
    "                break\n",
    "\n",
    "\n",
    "    print('#Positive: ', len(positive_text))\n",
    "    print('#Negative: ', len(negative_text))\n",
    "\n",
    "\n",
    "    len_p = len(positive_text) // 10 + 1\n",
    "    positive_text = positive_text  #[:(len_p * 10)]\n",
    "    negative_text = negative_text  #[:(len_p * 10)]\n",
    "    random.shuffle(positive_text)\n",
    "    random.shuffle(negative_text)\n",
    "\n",
    "    five_folds = sorted(([0,1,2,3,4] * 2 * len_p)[:len(positive_text)])\n",
    "    ten_folds = sorted(([0,1,2,3,4,5,6,7,8,9] * len_p)[:len(positive_text)])\n",
    "    train_test_split = sorted(([0,0,0,0,1] * 2 * len_p)[:len(positive_text)])\n",
    "\n",
    "    #SAVE EVERYTHING\n",
    "\n",
    "    with open(TARGET_FILE, 'w', encoding=\"utf-8\") as f:\n",
    "        writer = csv.DictWriter(f, ['text', 'label', 'five_folds', 'ten_folds', 'train_test_split'])\n",
    "        writer.writeheader()\n",
    "        for p_text, n_text, f_fold, t_fold, tt_split in zip(positive_text, \n",
    "                                                            negative_text, five_folds, ten_folds, train_test_split):\n",
    "            writer.writerow({'text': p_text, \n",
    "                             'label': 1.0, \n",
    "                             'five_folds' : f_fold, \n",
    "                             'ten_folds' : t_fold, \n",
    "                             'train_test_split' : tt_split})\n",
    "\n",
    "            writer.writerow({'text': n_text, \n",
    "                             'label': 0.0, \n",
    "                             'five_folds' : f_fold, \n",
    "                             'ten_folds' : t_fold, \n",
    "                             'train_test_split' : tt_split})"
   ]
  },
  {
   "cell_type": "code",
   "execution_count": 3,
   "id": "58b19002",
   "metadata": {},
   "outputs": [
    {
     "name": "stdout",
     "output_type": "stream",
     "text": [
      "#Positive:  28705\n",
      "#Negative:  28705\n",
      "#Positive:  8684\n",
      "#Negative:  8684\n",
      "#Positive:  3151\n",
      "#Negative:  3151\n",
      "#Positive:  987\n",
      "#Negative:  987\n",
      "#Positive:  212\n",
      "#Negative:  212\n"
     ]
    }
   ],
   "source": [
    "for i in range(1,6):\n",
    "    \n",
    "    SOURCE_FILE = '../Dataset/Text-Data/RP-Crowd-'+str(i)+'.csv'\n",
    "    TARGET_FILE = '../Dataset/Text-Data/RP-Crowd-'+str(i)+'-folds.csv'\n",
    "    \n",
    "    positive_text = []\n",
    "    negative_text = []\n",
    "    with open(SOURCE_FILE, encoding=\"utf-8\") as f:\n",
    "        reader = csv.DictReader(f)\n",
    "        for row in reader:\n",
    "            if row['label'] == 1.0 or row['label'] == '1.0' or row['label'] == 1 or row['label'] == '1':\n",
    "                positive_text.append(row['text'])\n",
    "            elif row['label'] == 0.0 or row['label'] == '0.0' or row['label'] == 0 or row['label'] == '0':\n",
    "                negative_text.append(row['text'])\n",
    "            else:\n",
    "                print(row)\n",
    "                break\n",
    "\n",
    "\n",
    "    print('#Positive: ', len(positive_text))\n",
    "    print('#Negative: ', len(negative_text))\n",
    "\n",
    "\n",
    "    len_p = len(positive_text) // 10 + 1\n",
    "    positive_text = positive_text  #[:(len_p * 10)]\n",
    "    negative_text = negative_text  #[:(len_p * 10)]\n",
    "    random.shuffle(positive_text)\n",
    "    random.shuffle(negative_text)\n",
    "\n",
    "    five_folds = sorted(([0,1,2,3,4] * 2 * len_p)[:len(positive_text)])\n",
    "    ten_folds = sorted(([0,1,2,3,4,5,6,7,8,9] * len_p)[:len(positive_text)])\n",
    "    train_test_split = sorted(([0,0,0,0,1] * 2 * len_p)[:len(positive_text)])\n",
    "\n",
    "    #SAVE EVERYTHING\n",
    "\n",
    "    with open(TARGET_FILE, 'w', encoding=\"utf-8\") as f:\n",
    "        writer = csv.DictWriter(f, ['text', 'label', 'five_folds', 'ten_folds', 'train_test_split'])\n",
    "        writer.writeheader()\n",
    "        for p_text, n_text, f_fold, t_fold, tt_split in zip(positive_text, \n",
    "                                                            negative_text, five_folds, ten_folds, train_test_split):\n",
    "            writer.writerow({'text': p_text, \n",
    "                             'label': 1.0, \n",
    "                             'five_folds' : f_fold, \n",
    "                             'ten_folds' : t_fold, \n",
    "                             'train_test_split' : tt_split})\n",
    "\n",
    "            writer.writerow({'text': n_text, \n",
    "                             'label': 0.0, \n",
    "                             'five_folds' : f_fold, \n",
    "                             'ten_folds' : t_fold, \n",
    "                             'train_test_split' : tt_split})"
   ]
  }
 ],
 "metadata": {
  "kernelspec": {
   "display_name": "Python 3 (ipykernel)",
   "language": "python",
   "name": "python3"
  },
  "language_info": {
   "codemirror_mode": {
    "name": "ipython",
    "version": 3
   },
   "file_extension": ".py",
   "mimetype": "text/x-python",
   "name": "python",
   "nbconvert_exporter": "python",
   "pygments_lexer": "ipython3",
   "version": "3.9.6"
  }
 },
 "nbformat": 4,
 "nbformat_minor": 5
}
