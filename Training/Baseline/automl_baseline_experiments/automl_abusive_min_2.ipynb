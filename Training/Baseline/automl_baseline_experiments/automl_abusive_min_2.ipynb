{
 "cells": [
  {
   "cell_type": "markdown",
   "metadata": {},
   "source": [
    "# RP-Crowd-2 Analysis\n",
    "In this notebook we analyse the RP-Crowd-2 dataset and train AutoML classifiers"
   ]
  },
  {
   "cell_type": "code",
   "execution_count": 2,
   "metadata": {},
   "outputs": [],
   "source": [
    "#!pip install scikit-learn\n",
    "import nltk\n",
    "import re\n",
    "import spacy\n",
    "import numpy as np\n",
    "from tqdm import tqdm\n",
    "from nltk.corpus import stopwords  \n",
    "import pandas as pd\n",
    "import matplotlib.pyplot as plt\n",
    "\n",
    "\n",
    "##sklearn\n",
    "from sklearn.model_selection import PredefinedSplit\n",
    "from sklearn.metrics import precision_recall_curve\n",
    "import sklearn.datasets\n",
    "import sklearn.metrics\n",
    "import sklearn.model_selection\n",
    "import sklearn.datasets\n",
    "import sklearn.metrics\n",
    "\n",
    "\n",
    "## automl\n",
    "import autosklearn.classification\n",
    "import six.moves.cPickle as pickle\n",
    "from sklearn.base import TransformerMixin\n"
   ]
  },
  {
   "cell_type": "markdown",
   "metadata": {},
   "source": [
    "# Preprocessing"
   ]
  },
  {
   "cell_type": "code",
   "execution_count": null,
   "metadata": {},
   "outputs": [],
   "source": [
    "## first we load the dataset with the predefined folds\n",
    "\n",
    "experiment = \"abusive_min_2\"\n",
    "\n",
    "## load data\n",
    "df = pd.read_csv(\"../../../Dataset/Text-Data/RP-Crowd-2-folds.csv\")\n",
    "\n",
    "## load labels and cast to int\n",
    "y_dat = df[\"label\"].values\n",
    "y_dat = y_dat.astype(int)\n",
    "\n",
    "## test data filter\n",
    "filter_q =  df['ten_folds'] < 8 \n"
   ]
  },
  {
   "cell_type": "code",
   "execution_count": null,
   "metadata": {},
   "outputs": [],
   "source": [
    "class TextPreprocessingTransformer(TransformerMixin):\n",
    "    def __init__(self):\n",
    "        pass\n",
    "\n",
    "    def fit(self, X, y=None):\n",
    "        return self\n",
    "\n",
    "    def transform(self, X):\n",
    "        documents = []\n",
    "        nlp = spacy.load(\"de_core_news_lg\")\n",
    "        for sen in tqdm(range(0, len(X))):\n",
    "            # Remove all the special characters\n",
    "            document = re.sub(r'\\W', ' ', str(X[sen]))\n",
    "\n",
    "            # Remove numbers\n",
    "            document = re.sub(r'[0-9]', ' ', document)\n",
    "\n",
    "            # remove all single characters\n",
    "            document = re.sub(r'\\s+[a-zA-Z]\\s+', ' ', document)\n",
    "\n",
    "            # Remove single characters from the start\n",
    "            document = re.sub(r'\\^[a-zA-Z]\\s+', ' ', document) \n",
    "\n",
    "            # Substituting multiple spaces with single space\n",
    "            document = re.sub(r'\\s+', ' ', document, flags=re.I)\n",
    "\n",
    "            # Removing prefixed 'b'\n",
    "            document = re.sub(r'^b\\s+', '', document)\n",
    "\n",
    "            # Converting to Lowercase\n",
    "            document = document.lower()\n",
    "\n",
    "            # Lemmatization\n",
    "            document = nlp(document)\n",
    " \n",
    "            document = [word.lemma_ for word in document]\n",
    "            document = ' '.join(document)\n",
    "        \n",
    "            documents.append(document)\n",
    "\n",
    "        return documents"
   ]
  },
  {
   "cell_type": "code",
   "execution_count": null,
   "metadata": {},
   "outputs": [],
   "source": [
    "nltk.download(\"stopwords\")\n",
    "german_stop_words = stopwords.words('german')\n",
    "\n",
    "from sklearn.feature_extraction.text import TfidfVectorizer\n",
    "\n",
    "tf = TfidfVectorizer(stop_words=german_stop_words, min_df = 5, ngram_range=(1,2), max_features=3224)\n",
    "preprocessor = TextPreprocessingTransformer()\n",
    "\n",
    "\n",
    "preprocessed = preprocessor.transform(np.array(df[\"text\"]))\n",
    "\n",
    "tfidf_dat = tf.fit_transform(preprocessed).toarray()\n",
    "tfidf_dat.shape"
   ]
  },
  {
   "cell_type": "code",
   "execution_count": null,
   "metadata": {},
   "outputs": [],
   "source": [
    "## specify test data\n",
    "\n",
    "test = tfidf_dat[-filter_q]\n",
    "test_y = y_dat[-filter_q]"
   ]
  },
  {
   "cell_type": "markdown",
   "metadata": {},
   "source": [
    "### AutoML"
   ]
  },
  {
   "cell_type": "code",
   "execution_count": null,
   "metadata": {},
   "outputs": [],
   "source": [
    "## Now we train the automl classifier\n",
    "automl =  autosklearn.classification.AutoSklearnClassifier(\n",
    "     time_left_for_this_task=18000,\n",
    "    per_run_time_limit=600,\n",
    "    tmp_folder='../../Evaluation/Best-Baseline-Results/autosklearn_tfidf_min2_classification_results',\n",
    "    output_folder='../../Evaluation/Best-Baseline-Results/autosklearn_tfidf_min2_classification_results_out',\n",
    "    memory_limit=None,\n",
    "    n_jobs=40,\n",
    "    metric = autosklearn.metrics.accuracy,\n",
    "    ensemble_nbest=10,\n",
    "    resampling_strategy='cv',\n",
    "    resampling_strategy_arguments={'folds': 10}\n",
    ")\n",
    "\n",
    "automl.fit(tfidf_dat[filter_q], y_dat[filter_q])"
   ]
  },
  {
   "cell_type": "code",
   "execution_count": null,
   "metadata": {},
   "outputs": [],
   "source": [
    "## refit on the complete training data\n",
    "automl.refit(tfidf_dat[filter_q], y_dat[filter_q])"
   ]
  },
  {
   "cell_type": "code",
   "execution_count": null,
   "metadata": {},
   "outputs": [],
   "source": [
    "with open(\"../../Evaluation/Baseline-Results/automl_model_tfidf_\"+experiment, \"wb\") as f:\n",
    "    pickle.dump(automl, f)"
   ]
  },
  {
   "cell_type": "markdown",
   "metadata": {},
   "source": [
    "# FASTTEXT EMBEDDING EVALUATION\n",
    "Now we start building models based on fasttext embeddings. We build the following models:\n",
    "1. Naive Bayes\n",
    "2. Logistic Regression\n",
    "3. Gradient Boosted Trees\n",
    "4. AutoML pipeline"
   ]
  },
  {
   "cell_type": "code",
   "execution_count": null,
   "metadata": {},
   "outputs": [],
   "source": [
    "import fasttext.util\n",
    "#fasttext.util.download_model('de', if_exists='ignore')\n",
    "ft = fasttext.load_model('cc.de.300.bin')"
   ]
  },
  {
   "cell_type": "code",
   "execution_count": null,
   "metadata": {},
   "outputs": [],
   "source": [
    "## get sentence embedding\n",
    "dat_embedding = np.array([ft.get_sentence_vector(x) for x in preprocessed])\n",
    "dat_embedding[filter_q]"
   ]
  },
  {
   "cell_type": "code",
   "execution_count": null,
   "metadata": {},
   "outputs": [],
   "source": [
    "## Now we train the automl classifier\n",
    "automl_emb = autosklearn.classification.AutoSklearnClassifier(\n",
    "      time_left_for_this_task=18000,\n",
    "    per_run_time_limit=600,\n",
    "    tmp_folder='../../Evaluation/Best-Baseline-Results/autosklearn_emb_min2_classification_results',\n",
    "    output_folder='../../Evaluation/Best-Baseline-Results/autosklearn_emb_min2_classification_results_out',\n",
    "    memory_limit=None,\n",
    "    n_jobs=10,\n",
    "    metric = autosklearn.metrics.accuracy,\n",
    "    ensemble_nbest=10,\n",
    "    resampling_strategy='cv',\n",
    "    resampling_strategy_arguments={'folds': 10}\n",
    ")\n",
    "\n",
    "automl_emb.fit(dat_embedding[filter_q], y_dat[filter_q])"
   ]
  },
  {
   "cell_type": "code",
   "execution_count": null,
   "metadata": {},
   "outputs": [],
   "source": [
    "automl_emb.refit(dat_embedding[filter_q].copy(), y_dat[filter_q].copy())"
   ]
  },
  {
   "cell_type": "code",
   "execution_count": null,
   "metadata": {},
   "outputs": [],
   "source": [
    "with open(\"../../Evaluation/Best-Baseline-Results/autosklearn_model_embed_\"+experiment, \"wb\") as f:\n",
    "    pickle.dump(automl_emb, f)"
   ]
  }
 ],
 "metadata": {
  "kernelspec": {
   "display_name": "Python 3 (ipykernel)",
   "language": "python",
   "name": "python3"
  },
  "language_info": {
   "codemirror_mode": {
    "name": "ipython",
    "version": 3
   },
   "file_extension": ".py",
   "mimetype": "text/x-python",
   "name": "python",
   "nbconvert_exporter": "python",
   "pygments_lexer": "ipython3",
   "version": "3.9.2"
  }
 },
 "nbformat": 4,
 "nbformat_minor": 4
}
