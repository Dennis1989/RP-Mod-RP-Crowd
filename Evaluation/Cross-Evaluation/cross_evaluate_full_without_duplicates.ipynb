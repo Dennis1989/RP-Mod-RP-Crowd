{
 "cells": [
  {
   "cell_type": "code",
   "execution_count": null,
   "id": "6f517f63",
   "metadata": {},
   "outputs": [],
   "source": [
    "# Rerun of the cross-evaluation as one of the reviews pointed out that we have to remove duplicates \n",
    "# The code was adapted accordingly"
   ]
  },
  {
   "cell_type": "code",
   "execution_count": null,
   "id": "be95c019",
   "metadata": {},
   "outputs": [],
   "source": [
    "import setGPU\n",
    "from transformers import BertTokenizer, BertForPreTraining\n",
    "from nimble_pytorch.transformers import NimbleBert\n",
    "from utils.generators import TextDatasetFineTuning, simple_collate_fn\n",
    "import torch, torch.nn as nn, torch.nn.functional as F\n",
    "from torch.utils.data import DataLoader\n",
    "import numpy as np\n",
    "import pickle\n",
    "def lr_lambda(epoch): return 0.97"
   ]
  },
  {
   "cell_type": "code",
   "execution_count": null,
   "id": "ccf0c7d0",
   "metadata": {},
   "outputs": [],
   "source": [
    "## Selected models\n",
    "MODEL_PATHS = [\n",
    "    '../../Training/Language Models/trained_models/gbert-base-double-head-unfrozen-RP-Crowd-2-folds-a0.9_best.pt',\n",
    "    '../../Training/Language Models/trained_models/gbert-base-double-head-unfrozen-RP-Crowd-2-folds-a0.5_best.pt',\n",
    "\n",
    "    '../../Training/Language Models/trained_models/gbert-base-double-head-unfrozen-RP-Crowd-3-folds-a0.9_best.pt',\n",
    "    '../../Training/Language Models/trained_models/gbert-base-double-head-unfrozen-RP-Crowd-3-folds-a0.5_best.pt',\n",
    "\n",
    "    '../../Training/Language Models/trained_models/gbert-base-double-head-unfrozen-RP-Mod-folds-a0.9_best.pt',\n",
    "    '../../Training/Language Models/trained_models/gbert-base-double-head-unfrozen-RP-Mod-folds-a0.5_best.pt',\n",
    "\n",
    "    '../../Training/Language Models/trained_models/gbert-base-double-head-unfrozen-derstandard-folds-a0.9_best.pt',\n",
    "    '../../Training/Language Models/trained_models/gbert-base-double-head-unfrozen-derstandard-folds-a0.5_best.pt'\n",
    "]\n",
    "## Load tokenizer\n",
    "tokenizer = BertTokenizer.from_pretrained('deepset/gbert-base')"
   ]
  },
  {
   "cell_type": "code",
   "execution_count": null,
   "id": "8fdc657e",
   "metadata": {},
   "outputs": [],
   "source": [
    "## Dataset as tuple (Name, Dataset)\n",
    "DATASETS = [\n",
    "    ('RP-Crowd-2', TextDatasetFineTuning('../../Dataset/Text-Data/Cross Evaluation Without Duplicates/evaluate_on_RP-Crowd-2-folds.csv', \n",
    "                                         tokenizer, 'ten_folds', [8,9], include_mlm=True, mlm_probability=0., \n",
    "                                         padding='max_length', truncation=True, max_length=512)),\n",
    "    ('RP-Crowd-3', TextDatasetFineTuning('../../Dataset/Text-Data/Cross Evaluation Without Duplicates/evaluate_on_RP-Crowd-3-folds.csv', \n",
    "                                         tokenizer, 'ten_folds', [8,9], include_mlm=True, mlm_probability=0., \n",
    "                                         padding='max_length', truncation=True, max_length=512)),\n",
    "    ('RP-Mod', TextDatasetFineTuning('../../Dataset/Text-Data/Cross Evaluation Without Duplicates/evaluate_on_RP-Mod-folds.csv', \n",
    "                                         tokenizer, 'ten_folds', [8,9], include_mlm=True, mlm_probability=0., \n",
    "                                         padding='max_length', truncation=True, max_length=512)),\n",
    "    ('DerStandard', TextDatasetFineTuning('../../Dataset/Text-Data/derstandard-folds.csv', tokenizer, \n",
    "                                     'ten_folds', [8,9], include_mlm=True, mlm_probability=0., \n",
    "                                     padding='max_length', truncation=True, max_length=512))\n",
    "]"
   ]
  },
  {
   "cell_type": "code",
   "execution_count": null,
   "id": "5571bdac",
   "metadata": {},
   "outputs": [],
   "source": []
  },
  {
   "cell_type": "code",
   "execution_count": null,
   "id": "c8f35d12",
   "metadata": {},
   "outputs": [],
   "source": [
    "## Iterate over models\n",
    "for path in MODEL_PATHS:\n",
    "    model = torch.load(path, map_location='cuda')\n",
    "    # Iterate over datasets\n",
    "    for name, dataset in DATASETS:\n",
    "        model.name = model.name.replace('unfreezed', 'unfrozen')\n",
    "        print(f'Evaluate {model.name} on {name}!')\n",
    "        probs = []\n",
    "        decisions = []\n",
    "        y_trues = []\n",
    "        \n",
    "        # Iterate over batches and store them\n",
    "        for inp in iter(dataset):\n",
    "            y_trues.append(inp['next_sentence_label'])\n",
    "            x = {}\n",
    "            x['input_ids'] = inp['input_ids'].cuda()\n",
    "            x['token_type_ids'] = inp['token_type_ids'].cuda()\n",
    "            x['attention_mask'] = inp['attention_mask'].cuda()\n",
    "\n",
    "            prob = model.predict(x)['seq_relationship_logits'].cpu().exp()\n",
    "            decision = prob.argmax(-1)\n",
    "\n",
    "            probs.extend(prob.tolist())\n",
    "            decisions.extend(decision.tolist())\n",
    "            del prob, decision, x\n",
    "\n",
    "        ## Save Pickle\n",
    "        with open(f'../Cross-Evaluation-Results/renewed_cross_eval_{model.name}_on_{name}.pickle', 'wb') as f:\n",
    "            pickle.dump({'probs': probs, 'decisions': decisions, 'y_trues': y_trues}, f)\n",
    "\n",
    "    del model"
   ]
  },
  {
   "cell_type": "code",
   "execution_count": null,
   "id": "f3d81c89",
   "metadata": {},
   "outputs": [],
   "source": []
  }
 ],
 "metadata": {
  "kernelspec": {
   "display_name": "Python 3 (ipykernel)",
   "language": "python",
   "name": "python3"
  },
  "language_info": {
   "codemirror_mode": {
    "name": "ipython",
    "version": 3
   },
   "file_extension": ".py",
   "mimetype": "text/x-python",
   "name": "python",
   "nbconvert_exporter": "python",
   "pygments_lexer": "ipython3",
   "version": "3.9.7"
  }
 },
 "nbformat": 4,
 "nbformat_minor": 5
}
