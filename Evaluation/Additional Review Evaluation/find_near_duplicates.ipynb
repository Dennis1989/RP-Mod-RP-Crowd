{
 "cells": [
  {
   "cell_type": "code",
   "execution_count": 1,
   "id": "010276eb",
   "metadata": {},
   "outputs": [],
   "source": [
    "# One of the reviewer ask about duplicates. this script tries to find all duplicates \n",
    "import csv, math\n",
    "from polyleven import levenshtein\n",
    "from tqdm import trange"
   ]
  },
  {
   "cell_type": "code",
   "execution_count": 2,
   "id": "cebc805c",
   "metadata": {},
   "outputs": [],
   "source": [
    "DATASET = '../../Dataset/Text-Data/RP-Mod-Crowd.csv'\n",
    "NAME = DATASET.split('/')[-1]\n",
    "TRESHOLD_NEAR = 0.15"
   ]
  },
  {
   "cell_type": "code",
   "execution_count": 3,
   "id": "fe5d1bb5",
   "metadata": {},
   "outputs": [],
   "source": [
    "# Load dataset row-wise\n",
    "rows_list = []\n",
    "with open(DATASET) as f:\n",
    "    reader = csv.DictReader(f)\n",
    "    for row in reader:\n",
    "        rows_list.append(row)"
   ]
  },
  {
   "cell_type": "code",
   "execution_count": 4,
   "id": "14330fa3",
   "metadata": {},
   "outputs": [
    {
     "name": "stderr",
     "output_type": "stream",
     "text": [
      "100%|██████████| 85000/85000 [3:47:34<00:00,  6.22it/s]  \n"
     ]
    }
   ],
   "source": [
    "real_duplicates = []\n",
    "near_duplibates = []\n",
    "# We want to find real and near duplicates. near is defined as less than 15% distance\n",
    "for _ in trange(len(rows_list)):\n",
    "    base_row = rows_list.pop()\n",
    "    for row in rows_list:\n",
    "        # First, levenshtein does not accept relative but only absolute distance. thus, we have to convert it\n",
    "        length = max(len(base_row['Text']), len(row['Text']))\n",
    "        max_ths = round(length * TRESHOLD_NEAR)\n",
    "        # The max_ths reduces runtime significantly\n",
    "        dist = levenshtein(base_row['Text'], row['Text'], max_ths)\n",
    "        if dist == 0: # Found real duplicate\n",
    "            ids = {r['id'] for r in real_duplicates}\n",
    "            if base_row['id'] not in ids:\n",
    "                real_duplicates.append(base_row)\n",
    "            if row['id'] not in ids:\n",
    "                real_duplicates.append(row)\n",
    "        if 1 <= dist <= max_ths: # Found near duplicate\n",
    "            ids = {r['id'] for r in near_duplibates}\n",
    "            if base_row['id'] not in ids:\n",
    "                near_duplibates.append(base_row)\n",
    "            if row['id'] not in ids:\n",
    "                near_duplibates.append(row)"
   ]
  },
  {
   "cell_type": "code",
   "execution_count": 5,
   "id": "b6eac78d",
   "metadata": {},
   "outputs": [
    {
     "name": "stdout",
     "output_type": "stream",
     "text": [
      "Real duplicates: 815\n",
      "Near duplicates: 677\n"
     ]
    }
   ],
   "source": [
    "print(f'Real duplicates: {len(real_duplicates)}')\n",
    "print(f'Near duplicates: {len(near_duplibates)}')"
   ]
  },
  {
   "cell_type": "code",
   "execution_count": 6,
   "id": "1f9aecd0",
   "metadata": {},
   "outputs": [],
   "source": [
    "with open('real_duplicates.csv', 'w')  as f:\n",
    "    dict_writer = csv.DictWriter(f, real_duplicates[0].keys())\n",
    "    dict_writer.writeheader()\n",
    "    dict_writer.writerows(real_duplicates)"
   ]
  },
  {
   "cell_type": "code",
   "execution_count": 7,
   "id": "28038932",
   "metadata": {},
   "outputs": [],
   "source": [
    "with open('near_duplibates.csv', 'w')  as f:\n",
    "    dict_writer = csv.DictWriter(f, near_duplibates[0].keys())\n",
    "    dict_writer.writeheader()\n",
    "    dict_writer.writerows(near_duplibates)"
   ]
  }
 ],
 "metadata": {
  "kernelspec": {
   "display_name": "Python 3 (ipykernel)",
   "language": "python",
   "name": "python3"
  },
  "language_info": {
   "codemirror_mode": {
    "name": "ipython",
    "version": 3
   },
   "file_extension": ".py",
   "mimetype": "text/x-python",
   "name": "python",
   "nbconvert_exporter": "python",
   "pygments_lexer": "ipython3",
   "version": "3.9.7"
  }
 },
 "nbformat": 4,
 "nbformat_minor": 5
}
