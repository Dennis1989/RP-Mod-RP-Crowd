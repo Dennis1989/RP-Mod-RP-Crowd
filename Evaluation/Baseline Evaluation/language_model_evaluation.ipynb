{
 "cells": [
  {
   "cell_type": "code",
   "execution_count": 2,
   "id": "1a5859c5",
   "metadata": {},
   "outputs": [],
   "source": [
    "import numpy as np\n",
    "import pickle\n",
    "import sklearn\n",
    "from sklearn.metrics import accuracy_score\n",
    "import pandas as pd\n",
    "import matplotlib.pyplot as plt\n",
    "\n",
    "out = \"experiments\"\n",
    "results = \"../Repeated Language Model Results/\"\n",
    "## load data"
   ]
  },
  {
   "cell_type": "code",
   "execution_count": 7,
   "id": "daed8623",
   "metadata": {},
   "outputs": [
    {
     "name": "stdout",
     "output_type": "stream",
     "text": [
      "min2_0.1\n",
      "mean: 0.812\n",
      "std: 0.0021\n",
      "------------------------------\n",
      "min2_0.5\n",
      "mean: 0.8116\n",
      "std: 0.0035\n",
      "------------------------------\n",
      "min2_0.9\n",
      "mean: 0.8124\n",
      "std: 0.0023\n",
      "------------------------------\n"
     ]
    },
    {
     "data": {
      "text/plain": [
       "0.00230126547873711"
      ]
     },
     "execution_count": 7,
     "metadata": {},
     "output_type": "execute_result"
    }
   ],
   "source": [
    "df = pd.read_csv(\"../../Dataset/Text-Data/RP-Crowd-2-folds.csv\")\n",
    "\n",
    "## load labels and cast to int\n",
    "y_dat = df[\"label\"].values\n",
    "y_dat = y_dat.astype(int)\n",
    "\n",
    "## test data filter\n",
    "filter_q =  df['ten_folds'] < 8 \n",
    "test_y = y_dat[-filter_q]\n",
    "\n",
    "\n",
    "## gbert min2_0.1\n",
    "min2_0_1 = [accuracy_score(test_y ,pickle.load( open( results + \"gbert-base-double-head-unfrozen-RP-Crowd-2-folds-a0.1-\"+str(i)+\"_best.pickle\", \"rb\" ) )[\"decisions\"]) for i in range(0,5)]\n",
    "print(\"min2_0.1\")\n",
    "print(\"mean: \" + str(np.around(np.mean(min2_0_1), 4)))\n",
    "print(\"std: \"+str(np.around(np.std(min2_0_1), 4)))\n",
    "print(\"------------------------------\")\n",
    "np.std(min2_0_1)\n",
    "\n",
    "## gbert min2_0.5\n",
    "min2_0_5 = [accuracy_score(test_y ,pickle.load( open( results + \"gbert-base-double-head-unfrozen-RP-Crowd-2-folds-a0.5-\"+str(i)+\"_best.pickle\", \"rb\" ) )[\"decisions\"]) for i in range(0,5)]\n",
    "print(\"min2_0.5\")\n",
    "print(\"mean: \" + str(np.around(np.mean(min2_0_5), 4)))\n",
    "print(\"std: \"+str(np.around(np.std(min2_0_5), 4)))\n",
    "print(\"------------------------------\")\n",
    "np.std(min2_0_5)\n",
    "\n",
    "\n",
    "## gbert min2_0.9\n",
    "min2_0_9 = [accuracy_score(test_y ,pickle.load( open( results + \"gbert-base-double-head-unfrozen-RP-Crowd-2-folds-a0.9-\"+str(i)+\"_best.pickle\", \"rb\" ) )[\"decisions\"]) for i in range(0,5)]\n",
    "print(\"min2_0.9\")\n",
    "print(\"mean: \" + str(np.around(np.mean(min2_0_9), 4)))\n",
    "print(\"std: \"+str(np.around(np.std(min2_0_9), 4)))\n",
    "print(\"------------------------------\")\n",
    "np.std(min2_0_9)\n",
    "\n",
    "\n",
    "\n"
   ]
  },
  {
   "cell_type": "code",
   "execution_count": 10,
   "id": "4c7d9c84",
   "metadata": {},
   "outputs": [
    {
     "name": "stdout",
     "output_type": "stream",
     "text": [
      "min3_0.1\n",
      "mean: 0.8267\n",
      "std: 0.0057\n",
      "------------------------------\n",
      "min3_0.5\n",
      "mean: 0.8316\n",
      "std: 0.0034\n",
      "------------------------------\n",
      "min3_0.9\n",
      "mean: 0.8357\n",
      "std: 0.0036\n",
      "------------------------------\n"
     ]
    },
    {
     "data": {
      "image/png": "[encoded data removed]",
      "text/plain": [
       "<Figure size 216x216 with 1 Axes>"
      ]
     },
     "metadata": {
      "needs_background": "light"
     },
     "output_type": "display_data"
    }
   ],
   "source": [
    "df = pd.read_csv(\"../../Dataset/Text-Data/RP-Crowd-3-folds.csv\")\n",
    "\n",
    "## load labels and cast to int\n",
    "y_dat = df[\"label\"].values\n",
    "y_dat = y_dat.astype(int)\n",
    "\n",
    "## test data filter\n",
    "filter_q =  df['ten_folds'] < 8 \n",
    "test_y = y_dat[-filter_q]\n",
    "\n",
    "\n",
    "\n",
    "## gbert min2_0.1\n",
    "min3_0_1 = [accuracy_score(test_y ,pickle.load( open( results + \"gbert-base-double-head-unfrozen-RP-Crowd-3-folds-a0.1-\"+str(i)+\"_best.pickle\", \"rb\" ) )[\"decisions\"]) for i in range(0,5)]\n",
    "print(\"min3_0.1\")\n",
    "print(\"mean: \" + str(np.around(np.mean(min3_0_1), 4)))\n",
    "print(\"std: \"+str(np.around(np.std(min3_0_1), 4)))\n",
    "print(\"------------------------------\")\n",
    "np.std(min3_0_1)\n",
    "\n",
    "## gbert min2_0.5\n",
    "min3_0_5 = [accuracy_score(test_y ,pickle.load( open( results + \"gbert-base-double-head-unfrozen-RP-Crowd-3-folds-a0.5-\"+str(i)+\"_best.pickle\", \"rb\" ) )[\"decisions\"]) for i in range(0,5)]\n",
    "print(\"min3_0.5\")\n",
    "print(\"mean: \" + str(np.around(np.mean(min3_0_5), 4)))\n",
    "print(\"std: \"+str(np.around(np.std(min3_0_5), 4)))\n",
    "print(\"------------------------------\")\n",
    "np.std(min3_0_5)\n",
    "\n",
    "\n",
    "## gbert min2_0.9\n",
    "min3_0_9 = [accuracy_score(test_y ,pickle.load( open( results + \"gbert-base-double-head-unfrozen-RP-Crowd-3-folds-a0.9-\"+str(i)+\"_best.pickle\", \"rb\" ) )[\"decisions\"]) for i in range(0,5)]\n",
    "print(\"min3_0.9\")\n",
    "print(\"mean: \" + str(np.around(np.mean(min3_0_9), 4)))\n",
    "print(\"std: \"+str(np.around(np.std(min3_0_9), 4)))\n",
    "print(\"------------------------------\")\n",
    "np.std(min3_0_9)\n",
    "\n",
    "\n",
    "fig = plt.figure(figsize =(3, 3))\n",
    " \n",
    "# Creating axes instance\n",
    "ax = fig.add_axes([0, 0, 1, 1])\n",
    "ax.set_ylim([0, 1])\n",
    "# Creating plot\n",
    "bp = ax.boxplot([min3_0_1,min3_0_5,min3_0_9])\n",
    " \n",
    "# show plot\n",
    "plt.show()\n"
   ]
  },
  {
   "cell_type": "code",
   "execution_count": 11,
   "id": "3589b538",
   "metadata": {},
   "outputs": [
    {
     "name": "stdout",
     "output_type": "stream",
     "text": [
      "mod_0.1\n",
      "mean: 0.7228\n",
      "std: 0.002\n",
      "------------------------------\n",
      "mod_0.5\n",
      "mean: 0.7203\n",
      "std: 0.0053\n",
      "------------------------------\n",
      "mod_0.9\n",
      "mean: 0.7225\n",
      "std: 0.0016\n",
      "------------------------------\n"
     ]
    },
    {
     "data": {
      "image/png": "[encoded data removed]",
      "text/plain": [
       "<Figure size 216x216 with 1 Axes>"
      ]
     },
     "metadata": {
      "needs_background": "light"
     },
     "output_type": "display_data"
    }
   ],
   "source": [
    "df = pd.read_csv(\"../../Dataset/Text-Data/RP-Mod-folds.csv\")\n",
    "\n",
    "## load labels and cast to int\n",
    "y_dat = df[\"label\"].values\n",
    "y_dat = y_dat.astype(int)\n",
    "\n",
    "## test data filter\n",
    "filter_q =  df['ten_folds'] < 8 \n",
    "test_y = y_dat[-filter_q]\n",
    "\n",
    "\n",
    "\n",
    "## gbert min2_0.1\n",
    "mod_0_1 = [accuracy_score(test_y ,pickle.load( open( results + \"gbert-base-double-head-unfrozen-RP-Mod-folds-a0.1-\"+str(i)+\"_best.pickle\", \"rb\" ) )[\"decisions\"]) for i in range(0,5)]\n",
    "print(\"mod_0.1\")\n",
    "print(\"mean: \" + str(np.around(np.mean(mod_0_1), 4)))\n",
    "print(\"std: \"+str(np.around(np.std(mod_0_1), 4)))\n",
    "print(\"------------------------------\")\n",
    "np.std(mod_0_1)\n",
    "\n",
    "## gbert min2_0.5\n",
    "mod_0_5 = [accuracy_score(test_y ,pickle.load( open( results + \"gbert-base-double-head-unfrozen-RP-Mod-folds-a0.5-\"+str(i)+\"_best.pickle\", \"rb\" ) )[\"decisions\"]) for i in range(0,5)]\n",
    "print(\"mod_0.5\")\n",
    "print(\"mean: \" + str(np.around(np.mean(mod_0_5), 4)))\n",
    "print(\"std: \"+str(np.around(np.std(mod_0_5), 4)))\n",
    "print(\"------------------------------\")\n",
    "np.std(mod_0_5)\n",
    "\n",
    "\n",
    "## gbert min2_0.9\n",
    "mod_0_9 = [accuracy_score(test_y ,pickle.load( open( results + \"gbert-base-double-head-unfrozen-RP-Mod-folds-a0.9-\"+str(i)+\"_best.pickle\", \"rb\" ) )[\"decisions\"]) for i in range(0,5)]\n",
    "print(\"mod_0.9\")\n",
    "print(\"mean: \" + str(np.around(np.mean(mod_0_9), 4)))\n",
    "print(\"std: \"+str(np.around(np.std(mod_0_9), 4)))\n",
    "print(\"------------------------------\")\n",
    "np.std(mod_0_9)\n",
    "\n",
    "\n",
    "fig = plt.figure(figsize =(3,3))\n",
    " \n",
    "# Creating axes instance\n",
    "ax = fig.add_axes([0, 0, 1, 1])\n",
    "ax.set_ylim([0, 1])\n",
    "# Creating plot\n",
    "bp = ax.boxplot([mod_0_1,mod_0_5,mod_0_9])\n",
    " \n",
    "# show plot\n",
    "plt.show()\n",
    "\n"
   ]
  },
  {
   "cell_type": "code",
   "execution_count": null,
   "id": "0d4f3966",
   "metadata": {},
   "outputs": [],
   "source": []
  }
 ],
 "metadata": {
  "kernelspec": {
   "display_name": "Python 3 (ipykernel)",
   "language": "python",
   "name": "python3"
  },
  "language_info": {
   "codemirror_mode": {
    "name": "ipython",
    "version": 3
   },
   "file_extension": ".py",
   "mimetype": "text/x-python",
   "name": "python",
   "nbconvert_exporter": "python",
   "pygments_lexer": "ipython3",
   "version": "3.9.7"
  }
 },
 "nbformat": 4,
 "nbformat_minor": 5
}
