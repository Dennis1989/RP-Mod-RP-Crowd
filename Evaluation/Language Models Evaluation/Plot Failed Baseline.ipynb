{
 "cells": [
  {
   "cell_type": "code",
   "execution_count": null,
   "id": "64e19a10",
   "metadata": {},
   "outputs": [],
   "source": [
    "import torch\n",
    "from matplotlib import pyplot as plt\n",
    "import numpy as np\n",
    "def lr_lambda(epoch): return 0.97\n",
    "from matplotlib import rc\n",
    "rc('text', usetex=True)"
   ]
  },
  {
   "cell_type": "code",
   "execution_count": null,
   "id": "8bded7fd",
   "metadata": {},
   "outputs": [],
   "source": [
    "PATHS = [\n",
    "    ('$\\\\texttt{GBERT}_{Base} (\\\\alpha=0.0)$ RP-3',\n",
    "     '../../Training/Language Models/trained_models/gbert-base-baseline-unfrozen-RP-Crowd-3-folds_final.pt'),\n",
    "    ('$\\\\texttt{GBERT}_{Base} (\\\\alpha=0.0)$ RP-Mod',\n",
    "     '../../Training/Language Models/trained_models/gbert-base-baseline-unfrozen-RP-Mod-folds_final.pt'),\n",
    "    ('$\\\\texttt{BERT}_{Hate} (\\\\alpha=0.0)$ RP-3',\n",
    "     '../../Training/Language Models/trained_models/bert-base-german-cased-hatespeech-GermEval18Coarse-baseline-unfrozen-RP-Crowd-3-folds_final.pt')]"
   ]
  },
  {
   "cell_type": "code",
   "execution_count": null,
   "id": "42940958",
   "metadata": {},
   "outputs": [],
   "source": [
    "train_acc = {}\n",
    "valid_acc = {}\n",
    "train_loss = {}\n",
    "for name, p in PATHS:\n",
    "    model = torch.load(p, map_location='cpu')\n",
    "    tr_acc = [np.array(v['hate_acc']).mean() for k,v in model.train_history.items()]\n",
    "    vl_acc = [np.array(v['hate_acc']).mean() for k,v in model.valid_history.items()]\n",
    "    tr_loss = [np.array(v['loss']).mean() for k,v in model.train_history.items()]\n",
    "    train_acc[name] = tr_acc\n",
    "    valid_acc[name] = vl_acc\n",
    "    train_loss[name] = tr_loss"
   ]
  },
  {
   "cell_type": "code",
   "execution_count": null,
   "id": "b0dd7600",
   "metadata": {},
   "outputs": [],
   "source": [
    "x = np.arange(100)\n",
    "fig, (ax1, ax2, ax3) = plt.subplots(1 ,3, figsize=(12,4))\n",
    "\n",
    "\n",
    "ax1.set_title(\"Train Loss\")\n",
    "ax1.set_xlabel('Epoch', size='large')\n",
    "ax1.set_xticks(np.arange(101, step=max(100//10,1)))\n",
    "ax1.set_ylim([0, 2.])\n",
    "ax1.set_ylabel('Loss', size='large')\n",
    "ax1.plot(x, train_loss[PATHS[0][0]], label=PATHS[0][0],linewidth=2)\n",
    "ax1.plot(x, train_loss[PATHS[1][0]], label=PATHS[1][0],linewidth=2)\n",
    "ax1.plot(x, train_loss[PATHS[2][0]], label=PATHS[2][0],linewidth=2)\n",
    "ax1.legend()\n",
    "\n",
    "ax2.set_title(\"Train Acc.\")\n",
    "ax2.set_xlabel('Epoch', size='large')\n",
    "ax2.set_xticks(np.arange(101, step=max(100//10,1)))\n",
    "ax2.set_ylim([0, 100])\n",
    "ax2.set_ylabel('Acc.', size='large')\n",
    "ax2.plot(x, train_acc[PATHS[0][0]], label=PATHS[0][0],linewidth=2)\n",
    "ax2.plot(x, train_acc[PATHS[1][0]], label=PATHS[1][0],linewidth=2)\n",
    "ax2.plot(x, train_acc[PATHS[2][0]], label=PATHS[2][0],linewidth=2)\n",
    "\n",
    "ax3.set_title(\"Val. Acc.\")\n",
    "ax3.set_xlabel('Epoch', size='large')\n",
    "ax3.set_xticks(np.arange(101, step=max(100//10,1)))\n",
    "ax3.set_ylim([0, 100])\n",
    "ax3.set_ylabel('Acc.', size='large')\n",
    "ax3.plot(x, valid_acc[PATHS[0][0]], label=PATHS[0][0],linewidth=2)\n",
    "ax3.plot(x, valid_acc[PATHS[1][0]], label=PATHS[1][0],linewidth=2)\n",
    "ax3.plot(x, valid_acc[PATHS[2][0]], label=PATHS[2][0],linewidth=2)\n",
    "fig.tight_layout()\n",
    "fig.savefig(\"../Figures/failed_baseline.pdf\", bbox_inches='tight')"
   ]
  },
  {
   "cell_type": "code",
   "execution_count": null,
   "id": "58d64c3c",
   "metadata": {},
   "outputs": [],
   "source": []
  },
  {
   "cell_type": "code",
   "execution_count": null,
   "id": "7ca55456",
   "metadata": {},
   "outputs": [],
   "source": []
  }
 ],
 "metadata": {
  "kernelspec": {
   "display_name": "Python 3 (ipykernel)",
   "language": "python",
   "name": "python3"
  },
  "language_info": {
   "codemirror_mode": {
    "name": "ipython",
    "version": 3
   },
   "file_extension": ".py",
   "mimetype": "text/x-python",
   "name": "python",
   "nbconvert_exporter": "python",
   "pygments_lexer": "ipython3",
   "version": "3.9.6"
  }
 },
 "nbformat": 4,
 "nbformat_minor": 5
}
